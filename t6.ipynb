{
 "cells": [
  {
   "cell_type": "code",
   "execution_count": 15,
   "metadata": {},
   "outputs": [
    {
     "name": "stdout",
     "output_type": "stream",
     "text": [
      "5\n",
      "9\n"
     ]
    }
   ],
   "source": [
    "from queue import *\n",
    "\n",
    "class stack():\n",
    "    def __init__(self,size):\n",
    "        self.LIFOStack=LifoQueue(size)\n",
    "    def push(self,num):\n",
    "        self.LIFOStack.put(num)\n",
    "    def pop(self):\n",
    "        return self.LIFOStack.get()\n",
    "    \n",
    "S=stack(10)\n",
    "S.push(12)\n",
    "S.push(9)\n",
    "S.push(5)\n",
    "print(S.pop())\n",
    "print(S.pop())"
   ]
  }
 ],
 "metadata": {
  "kernelspec": {
   "display_name": "Python 3",
   "language": "python",
   "name": "python3"
  },
  "language_info": {
   "codemirror_mode": {
    "name": "ipython",
    "version": 3
   },
   "file_extension": ".py",
   "mimetype": "text/x-python",
   "name": "python",
   "nbconvert_exporter": "python",
   "pygments_lexer": "ipython3",
   "version": "3.8.3"
  }
 },
 "nbformat": 4,
 "nbformat_minor": 4
}
