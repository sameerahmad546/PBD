{
 "cells": [
  {
   "cell_type": "code",
   "execution_count": 2,
   "metadata": {},
   "outputs": [
    {
     "name": "stdout",
     "output_type": "stream",
     "text": [
      "2\n",
      "3\n",
      "5\n",
      "7\n",
      "11\n",
      "13\n",
      "17\n",
      "31\n",
      "37\n",
      "71\n",
      "73\n",
      "79\n",
      "97\n",
      "The count is : 13\n"
     ]
    }
   ],
   "source": [
    "num=0\n",
    "count=0\n",
    "count1=0\n",
    "lenght=0\n",
    "rem=0\n",
    "mul=1\n",
    "n=0\n",
    "n1=0\n",
    "sqrt=0\n",
    "for i in range(2,100):\n",
    "    num=i\n",
    "    sqrt=num ** 0.5\n",
    "    \n",
    "    for k in range(2,int(sqrt)+1):\n",
    "        if num%k==0:\n",
    "            n=n+1\n",
    "            break\n",
    "    if n==0:\n",
    "        while num > 0:\n",
    "            lenght+=1\n",
    "            num=int(num/10)\n",
    "        num=i  \n",
    "        \n",
    "        for j in range(lenght):\n",
    "            while num>0:\n",
    "                rem=int(num%10)\n",
    "                num=int(num/10)\n",
    "                if num > 0:\n",
    "                    n1+=rem*mul\n",
    "                mul*=10\n",
    "            num=n1*10+rem\n",
    "            mul=1\n",
    "            n1=0\n",
    "            rem=0\n",
    "            sqrt=num ** 0.5\n",
    "            n=0\n",
    "            for l in range(2,int(sqrt)+1):\n",
    "                if num%l==0:\n",
    "                    n+=1\n",
    "                    break\n",
    "            if n==0:\n",
    "                count+=1\n",
    "                \n",
    "        if count==lenght:\n",
    "            print(i)\n",
    "            count1+=1\n",
    "    n1=0\n",
    "    n=0\n",
    "    mul=1\n",
    "    rem=0\n",
    "    lenght=0\n",
    "    count=0\n",
    "        \n",
    "\n",
    "print(\"The count is :\",count1)"
   ]
  },
  {
   "cell_type": "code",
   "execution_count": null,
   "metadata": {},
   "outputs": [],
   "source": []
  }
 ],
 "metadata": {
  "kernelspec": {
   "display_name": "Python 3",
   "language": "python",
   "name": "python3"
  },
  "language_info": {
   "codemirror_mode": {
    "name": "ipython",
    "version": 3
   },
   "file_extension": ".py",
   "mimetype": "text/x-python",
   "name": "python",
   "nbconvert_exporter": "python",
   "pygments_lexer": "ipython3",
   "version": "3.8.3"
  }
 },
 "nbformat": 4,
 "nbformat_minor": 4
}
